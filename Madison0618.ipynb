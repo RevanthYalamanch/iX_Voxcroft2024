{
 "cells": [
  {
   "cell_type": "code",
   "execution_count": 2,
   "metadata": {},
   "outputs": [],
   "source": [
    "\n",
    "# Author: Madison Laprise\n",
    "# Date: 6/18\n",
    "# Description: Using Molly's cleaned dataset, create a new dataframe with the contains/part-of score for each name in the dataset.\n",
    "# Struggles: When I do this, the contains_value column shows much less variance... most values are 0... I don't know why\n",
    "# Future plans:\n",
    "\n",
    "\n",
    "import pandas as pd\n",
    "df = pd.read_csv(r\"C:\\Users\\MadiL\\CodeBase\\VoxCroft\\cleandata_processed.csv\", index_col=\"Unnamed: 0\")"
   ]
  },
  {
   "cell_type": "code",
   "execution_count": 3,
   "metadata": {},
   "outputs": [
    {
     "name": "stdout",
     "output_type": "stream",
     "text": [
      "   Article_Date_Published                                       Article_Body  \\\n",
      "55           6/11/24 4:00  RT @TheStar_news: Dr Allan Boesak warns: DA's ...   \n",
      "56           6/11/24 4:00  RT @TheStar_news: Dr Allan Boesak warns: DA's ...   \n",
      "57           6/11/24 3:58  168798: Stationary Vehicle on N3 Eastbound aft...   \n",
      "81           6/11/24 2:23  168798: Stationary Vehicle on N3 Eastbound aft...   \n",
      "95           6/11/24 2:00  RT @TheStar_news: Dr Allan Boesak warns: DA's ...   \n",
      "\n",
      "            Name Identity_Type Article_Source          Voice  \\\n",
      "55  ALLAN BOESAK        People    twitter.com       The Star   \n",
      "56     RAMAPHOSA        People    twitter.com       The Star   \n",
      "57          RAMP        People    twitter.com  i-traffic KZN   \n",
      "81          RAMP        People    twitter.com  i-traffic KZN   \n",
      "95  ALLAN BOESAK        People    twitter.com       The Star   \n",
      "\n",
      "                              Article_Themes_AI_Model  \\\n",
      "55  [Primary: Politics|97% |Secondary: Government ...   \n",
      "56  [Primary: Politics|97% |Secondary: Government ...   \n",
      "57  [Primary: Disaster, accident and emergency inc...   \n",
      "81  [Primary: Disaster, accident and emergency inc...   \n",
      "95  [Primary: Politics|97% |Secondary: Government ...   \n",
      "\n",
      "   Article_Subject_Keyword_Identified Article_Topic_Keyword_Identified  \\\n",
      "55             ['DA', 'South Africa']                          ['nan']   \n",
      "56             ['DA', 'South Africa']                          ['nan']   \n",
      "57                            ['nan']            ['Natural Disasters']   \n",
      "81                            ['nan']            ['Natural Disasters']   \n",
      "95             ['DA', 'South Africa']                          ['nan']   \n",
      "\n",
      "      Position  Article  Frequency  Article_ID  Contains_Part_of_Score  \n",
      "55  ['0', '2']     11.0        2.0           0                       0  \n",
      "56       ['1']     11.0        1.0           0                       0  \n",
      "57  ['0', '1']     12.0        2.0           0                       0  \n",
      "81  ['0', '1']     18.0        2.0           1                       0  \n",
      "95  ['0', '2']     23.0        2.0           2                       0  \n"
     ]
    }
   ],
   "source": [
    "# Create a new DataFrame to store results without altering the original\n",
    "df_new = df.copy()\n",
    "\n",
    "# Ensure 'Article_ID' is a valid column; create a sample one if not\n",
    "if 'Article_ID' not in df.columns:\n",
    "    df_new['Article_ID'] = df.groupby(df.index // 10).ngroup()  # Sample grouping every 10 rows as an article\n",
    "\n",
    "# Function to calculate the frequency-based contains/part-of score\n",
    "def calculate_contains_part_of_score(name, article_id, df):\n",
    "    \"\"\"\n",
    "    Calculate a frequency-based contains/part-of score for a given name within an article.\n",
    "    \n",
    "    Parameters:\n",
    "    name (str): The name to check.\n",
    "    article_id (int): The ID of the article to check within.\n",
    "    df (DataFrame): The dataframe containing the data.\n",
    "    \n",
    "    Returns:\n",
    "    int: A negative score proportional to the frequency of the name being part of another name.\n",
    "    \"\"\"\n",
    "    # Ensure the name is a string\n",
    "    if not isinstance(name, str):\n",
    "        return 0\n",
    "    \n",
    "    # Get all names in the same article and ensure they are strings\n",
    "    article_names = df[df['Article_ID'] == article_id]['Name'].dropna().astype(str).unique()\n",
    "    \n",
    "    # Count how many times 'name' is part of other names in the article\n",
    "    frequency_count = sum(1 for other_name in article_names if name != other_name and name in other_name)\n",
    "    \n",
    "    # Return a negative score proportional to the frequency count\n",
    "    return -frequency_count\n",
    "\n",
    "# Apply the function to each name within the context of the same article\n",
    "df_new['Contains_Part_of_Score'] = df_new.apply(\n",
    "    lambda row: calculate_contains_part_of_score(row['Name'], row['Article_ID'], df_new),\n",
    "    axis=1\n",
    ")\n",
    "\n",
    "# Display the first few rows of the new dataframe with the new column\n",
    "print(df_new.head())\n",
    "\n",
    "# Save the new DataFrame to a CSV file if needed\n",
    "df_new.to_csv('contains_score.csv', index=False)\n"
   ]
  },
  {
   "cell_type": "code",
   "execution_count": null,
   "metadata": {},
   "outputs": [],
   "source": []
  }
 ],
 "metadata": {
  "kernelspec": {
   "display_name": "Python 3",
   "language": "python",
   "name": "python3"
  },
  "language_info": {
   "codemirror_mode": {
    "name": "ipython",
    "version": 3
   },
   "file_extension": ".py",
   "mimetype": "text/x-python",
   "name": "python",
   "nbconvert_exporter": "python",
   "pygments_lexer": "ipython3",
   "version": "3.12.4"
  }
 },
 "nbformat": 4,
 "nbformat_minor": 2
}

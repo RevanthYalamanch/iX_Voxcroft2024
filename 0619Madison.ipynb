{
 "cells": [
  {
   "cell_type": "code",
   "execution_count": null,
   "metadata": {},
   "outputs": [],
   "source": [
    "# Author: Madison\n",
    "# Date: June 19\n",
    "# Description: Added the contains part of score to the new dataset that was cleaned by Molly. Added an extra column for contains scores across articles, so now the df has article_contains_scores and dataset_contains_scores\n",
    "# Struggles: Adjusting to the new df required some tinkering but I think it's okay now. \n",
    "# Future plans: Hopefully this should be good and ready to merge. "
   ]
  },
  {
   "cell_type": "code",
   "execution_count": 8,
   "metadata": {},
   "outputs": [],
   "source": [
    "import pandas as pd\n",
    "\n",
    "# Load your dataset (make sure to replace 'your_dataset.csv' with the correct file path)\n",
    "df1 = pd.read_csv(r'C:\\Users\\MadiL\\CodeBase\\VoxCroft\\cleandata_processed.csv', index_col='Unnamed: 0')\n",
    "df = df1.copy()\n",
    "\n",
    "import pandas as pd\n",
    "\n",
    "# Define a function to calculate the number of containments within the same article, negatively scored\n",
    "def contains_part_of_within_article(name, names_list):\n",
    "    score = 0\n",
    "    for other_name in names_list:\n",
    "        if pd.isna(name) or pd.isna(other_name) or name == other_name:\n",
    "            continue\n",
    "        if name in other_name:\n",
    "            score -= 1  # Negative scoring for each containment\n",
    "    return score\n",
    "\n",
    "# Define a function to calculate the number of containments across the entire dataset, negatively scored\n",
    "def contains_part_of_across_dataset(name, names_list):\n",
    "    score = 0\n",
    "    for other_name in names_list:\n",
    "        if pd.isna(name) or pd.isna(other_name) or name == other_name:\n",
    "            continue\n",
    "        if name in other_name:\n",
    "            score -= 1  # Negative scoring for each containment\n",
    "    return score\n",
    "\n",
    "# Applying the scoring function within each article\n",
    "df['Article_Contains_Part_of_Score'] = df.groupby('Article')['Name'].transform(lambda x: x.apply(lambda name: contains_part_of_within_article(name, x)))\n",
    "\n",
    "# Applying the scoring function across the dataset\n",
    "all_names = df['Name'].tolist()\n",
    "df['Dataset_Contains_Part_of_Score'] = df['Name'].apply(lambda name: contains_part_of_across_dataset(name, all_names))\n",
    "\n",
    "# Saving the updated DataFrame\n",
    "output_path = r\"C:\\Users\\MadiL\\CodeBase\\VoxCroft\\article_and_dataset_contains_score_df.csv\"\n",
    "df.to_csv(output_path, index=False)\n",
    "\n"
   ]
  },
  {
   "cell_type": "code",
   "execution_count": null,
   "metadata": {},
   "outputs": [],
   "source": []
  },
  {
   "cell_type": "code",
   "execution_count": null,
   "metadata": {},
   "outputs": [],
   "source": []
  },
  {
   "cell_type": "code",
   "execution_count": null,
   "metadata": {},
   "outputs": [],
   "source": []
  }
 ],
 "metadata": {
  "kernelspec": {
   "display_name": "Python 3",
   "language": "python",
   "name": "python3"
  },
  "language_info": {
   "codemirror_mode": {
    "name": "ipython",
    "version": 3
   },
   "file_extension": ".py",
   "mimetype": "text/x-python",
   "name": "python",
   "nbconvert_exporter": "python",
   "pygments_lexer": "ipython3",
   "version": "3.12.4"
  }
 },
 "nbformat": 4,
 "nbformat_minor": 2
}

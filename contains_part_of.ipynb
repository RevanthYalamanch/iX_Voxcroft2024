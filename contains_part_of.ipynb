{
 "cells": [
  {
   "cell_type": "code",
   "execution_count": 2,
   "metadata": {},
   "outputs": [],
   "source": [
    "#Making the contains score df on the small subset\n",
    "\n",
    "import pandas as pd\n",
    "\n",
    "# Load your dataset (make sure to replace 'your_dataset.csv' with the correct file path)\n",
    "df1 = pd.read_csv(r\"C:\\Users\\MadiL\\CodeBase\\VoxCroft\\small_cleandata_processed.csv\")\n",
    "df = df1.copy()\n",
    "\n",
    "import pandas as pd\n",
    "\n",
    "# Define a function to calculate the number of containments within the same article, negatively scored\n",
    "def contains_part_of_within_article(name, names_list):\n",
    "    score = 0\n",
    "    for other_name in names_list:\n",
    "        if pd.isna(name) or pd.isna(other_name) or name == other_name:\n",
    "            continue\n",
    "        if name in other_name:\n",
    "            score -= 1  # Negative scoring for each containment\n",
    "    return score\n",
    "\n",
    "# Define a function to calculate the number of containments across the entire dataset, negatively scored\n",
    "def contains_part_of_across_dataset(name, names_list):\n",
    "    score = 0\n",
    "    for other_name in names_list:\n",
    "        if pd.isna(name) or pd.isna(other_name) or name == other_name:\n",
    "            continue\n",
    "        if name in other_name:\n",
    "            score -= 1  # Negative scoring for each containment\n",
    "    return score\n",
    "\n",
    "# Applying the scoring function within each article\n",
    "df['Article_Contains_Part_of_Score'] = df.groupby('Article')['Name'].transform(lambda x: x.apply(lambda name: contains_part_of_within_article(name, x)))\n",
    "\n",
    "# Applying the scoring function across the dataset\n",
    "all_names = df['Name'].tolist()\n",
    "df['Dataset_Contains_Part_of_Score'] = df['Name'].apply(lambda name: contains_part_of_across_dataset(name, all_names))\n",
    "\n",
    "# Saving the updated DataFrame\n",
    "output_path = r\"C:\\Users\\MadiL\\CodeBase\\VoxCroft\\small_contains_score.csv\"\n",
    "df.to_csv(output_path, index=False)"
   ]
  },
  {
   "cell_type": "code",
   "execution_count": null,
   "metadata": {},
   "outputs": [],
   "source": []
  }
 ],
 "metadata": {
  "kernelspec": {
   "display_name": "Python 3",
   "language": "python",
   "name": "python3"
  },
  "language_info": {
   "codemirror_mode": {
    "name": "ipython",
    "version": 3
   },
   "file_extension": ".py",
   "mimetype": "text/x-python",
   "name": "python",
   "nbconvert_exporter": "python",
   "pygments_lexer": "ipython3",
   "version": "3.12.4"
  }
 },
 "nbformat": 4,
 "nbformat_minor": 2
}

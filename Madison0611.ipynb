{
 "cells": [
  {
   "cell_type": "code",
   "execution_count": 1,
   "metadata": {},
   "outputs": [],
   "source": [
    "# Author: Madison Laprise\n",
    "# Date: 06/11\n",
    "# Description: Creation of co-occurence matrix\n",
    "# Struggles: \n",
    "# #MadiStruggles: VSCode was having import errors for modules I absolutely had installed... restarting fixed it\n",
    "# Future plans: Figure out what contains/part of means..."
   ]
  },
  {
   "cell_type": "markdown",
   "metadata": {},
   "source": []
  },
  {
   "cell_type": "code",
   "execution_count": 1,
   "metadata": {},
   "outputs": [
    {
     "name": "stdout",
     "output_type": "stream",
     "text": [
      "         Count             Entity1                 Entity2\n",
      "0           98  Benjamin Netanyahu             Benny Gantz\n",
      "1           39         Benny Gantz            Yoav Gallant\n",
      "2            7         Benny Gantz           Gadi Eisenkot\n",
      "3           13         Benny Gantz        Bezalel Smotrich\n",
      "4            1       Assaf Shapira             Benny Gantz\n",
      "...        ...                 ...                     ...\n",
      "3817204      1      R6,000 a month  The Limpopo High Court\n",
      "3817205      1              R1,800  The Limpopo High Court\n",
      "3817206      2              Baloyi          R6,000 a month\n",
      "3817207      2              Baloyi                  R1,800\n",
      "3817208      1              R1,800          R6,000 a month\n",
      "\n",
      "[3817209 rows x 3 columns]\n"
     ]
    }
   ],
   "source": [
    "import pandas as pd # type: ignore\n",
    "from collections import defaultdict\n",
    "from itertools import combinations\n",
    "\n",
    "# Load your dataset\n",
    "df = pd.read_excel(\"dfBIG.xlsx\")\n",
    "\n",
    "# Extract entities and handle NaN values\n",
    "df['People_Entities'] = df['Article_Content_People_AI_Model'].apply(lambda x: x.split('|') if pd.notna(x) else [])\n",
    "df['Other_Entities'] = df['Article_Content_Entities_AI_Model'].apply(lambda x: x.split('|') if pd.notna(x) else [])\n",
    "\n",
    "# Combine entities into a single list for each row\n",
    "df['All_Entities'] = df['People_Entities'] + df['Other_Entities']\n",
    "\n",
    "# Create a co-occurrence dictionary\n",
    "co_occurrence_dict = defaultdict(int)\n",
    "\n",
    "for index, row in df.iterrows():\n",
    "    all_entities = row['All_Entities']\n",
    "    for pair in combinations(all_entities, 2):\n",
    "        co_occurrence_dict[tuple(sorted(pair))] += 1\n",
    "\n",
    "# Convert co-occurrence dictionary to DataFrame\n",
    "co_occurrence_df = pd.DataFrame(co_occurrence_dict.items(), columns=['Entity_Pair', 'Count'])\n",
    "\n",
    "# Split Entity_Pair into two columns for better readability\n",
    "co_occurrence_df[['Entity1', 'Entity2']] = pd.DataFrame(co_occurrence_df['Entity_Pair'].tolist(), index=co_occurrence_df.index)\n",
    "co_occurrence_df.drop(columns=['Entity_Pair'], inplace=True)\n",
    "\n",
    "print(co_occurrence_df)\n"
   ]
  },
  {
   "cell_type": "markdown",
   "metadata": {},
   "source": [
    "The provided code block reads an Excel file containing articles and their associated entities, extracts the entities, and then generates a co-occurrence matrix. The co-occurrence matrix shows how often pairs of entities appear together across different articles. This is useful for identifying relationships and patterns between entities."
   ]
  },
  {
   "cell_type": "code",
   "execution_count": 3,
   "metadata": {},
   "outputs": [
    {
     "name": "stdout",
     "output_type": "stream",
     "text": [
      "Python version: 3.12.4 (tags/v3.12.4:8e8a4ba, Jun  6 2024, 19:30:16) [MSC v.1940 64 bit (AMD64)]\n",
      "pandas version: 2.2.2\n"
     ]
    }
   ],
   "source": [
    "#Checking pandas\n",
    "\n",
    "import sys\n",
    "print(\"Python version:\", sys.version)\n",
    "\n",
    "import pandas as pd # type: ignore\n",
    "print(\"pandas version:\", pd.__version__)"
   ]
  },
  {
   "cell_type": "code",
   "execution_count": 1,
   "metadata": {},
   "outputs": [
    {
     "ename": "NameError",
     "evalue": "name 'df' is not defined",
     "output_type": "error",
     "traceback": [
      "\u001b[1;31m---------------------------------------------------------------------------\u001b[0m",
      "\u001b[1;31mNameError\u001b[0m                                 Traceback (most recent call last)",
      "Cell \u001b[1;32mIn[1], line 2\u001b[0m\n\u001b[0;32m      1\u001b[0m \u001b[38;5;66;03m#Some exploration of the new dataset\u001b[39;00m\n\u001b[1;32m----> 2\u001b[0m \u001b[38;5;28mprint\u001b[39m(\u001b[43mdf\u001b[49m\u001b[38;5;241m.\u001b[39mshape)\n\u001b[0;32m      3\u001b[0m \u001b[38;5;28mprint\u001b[39m(df\u001b[38;5;241m.\u001b[39mcolumns)\n",
      "\u001b[1;31mNameError\u001b[0m: name 'df' is not defined"
     ]
    }
   ],
   "source": [
    "#Some exploration of the new dataset\n",
    "print(df.shape)\n",
    "print(df.columns)\n"
   ]
  },
  {
   "cell_type": "code",
   "execution_count": null,
   "metadata": {},
   "outputs": [],
   "source": []
  },
  {
   "cell_type": "code",
   "execution_count": null,
   "metadata": {},
   "outputs": [],
   "source": []
  },
  {
   "cell_type": "markdown",
   "metadata": {},
   "source": []
  }
 ],
 "metadata": {
  "kernelspec": {
   "display_name": "base",
   "language": "python",
   "name": "python3"
  },
  "language_info": {
   "codemirror_mode": {
    "name": "ipython",
    "version": 3
   },
   "file_extension": ".py",
   "mimetype": "text/x-python",
   "name": "python",
   "nbconvert_exporter": "python",
   "pygments_lexer": "ipython3",
   "version": "3.12.4"
  }
 },
 "nbformat": 4,
 "nbformat_minor": 2
}
